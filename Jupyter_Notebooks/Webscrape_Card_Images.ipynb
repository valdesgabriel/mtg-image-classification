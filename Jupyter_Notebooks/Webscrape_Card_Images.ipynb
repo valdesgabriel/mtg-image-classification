{
 "cells": [
  {
   "cell_type": "code",
   "execution_count": 1,
   "id": "ca42da5b",
   "metadata": {},
   "outputs": [],
   "source": [
    "import tensorflow as tf\n",
    "import numpy as np\n",
    "import pandas as pd\n",
    "import matplotlib.pyplot as plt\n",
    "import warnings\n",
    "from keras import models, layers\n",
    "import requests\n",
    "from PIL import Image\n",
    "from io import BytesIO\n",
    "import urllib.request\n",
    "import json\n",
    "from bs4 import BeautifulSoup\n",
    "import time\n",
    "import os\n",
    "import shutil"
   ]
  },
  {
   "cell_type": "markdown",
   "id": "c5352294",
   "metadata": {},
   "source": [
    "## Tokens and Play Card Image Scraping\n",
    "- using webscraping/BeautifulSoup to parse HTML code on scryfall.com page containing a filters for images of all tokens\n",
    "- grab URL imgages\n",
    "- save images using urllib"
   ]
  },
  {
   "cell_type": "code",
   "execution_count": null,
   "id": "f1547cb6",
   "metadata": {},
   "outputs": [],
   "source": [
    "#random play card image scraper  - DO NOT RUN UNLESS YOU NEED THE IMAGES\n",
    "#number of pages to scrape = random choice \n",
    "#type of images to scrape = url used\n",
    "#path for adding images\n",
    "\n",
    "y = input('How many pages of Play cards would you like to scrape? (Enter value 1-444) ')\n",
    "z = input('How many pages of Token cards would you like to scrape? (Enter value 1-13) ')\n",
    "\n",
    "if 'web_scrape' not in os.listdir('./'):\n",
    "    os.mkdir('./web_scrape')\n",
    "    os.mkdir('./web_scrape/test_data')\n",
    "    os.mkdir('./web_scrape/train_data')\n",
    "    os.mkdir('./web_scrape/test_data/play_card_images/')\n",
    "    os.mkdir('./web_scrape/train_data/play_card_images/')\n",
    "    os.mkdir('./web_scrape/test_data/token_images/')\n",
    "    os.mkdir('./web_scrape/train_data/token_images/')\n",
    "else: \n",
    "    print('Please delete your \"Web_Scrape\" folder before continuing')\n",
    "\n",
    "counter = 0\n",
    "play_img_urls = []\n",
    "token_img_urls = []\n",
    "card_pages = np.random.choice(444,int(y))\n",
    "token_pages = np.random.choice(13,int(z))\n",
    "for i in card_pages:\n",
    "    print('Starting Play Card scraper...')\n",
    "    url = 'https://scryfall.com/search?as=grid&order=name&page='+str(i)+'&q=-t%3Atoken+f%3Acommander+-s%3Asunf&unique=cards'\n",
    "    print('Scraping...Please wait...', url)\n",
    "    request_ = requests.get(url)\n",
    "    response = requests.get(url).status_code\n",
    "    if response == 200:\n",
    "        soup = BeautifulSoup(request_.content, features='html.parser')\n",
    "        card_img = soup.find_all('img')\n",
    "        print(\"There are\", len(card_img), \"images on this page\")\n",
    "        progress = 0\n",
    "        for img in card_img:\n",
    "            progress_counter = (progress/len(card_img))*100\n",
    "            temp_img = img['src']\n",
    "            file_name = \"image2_\"+str(counter)+\"_play_card.jpg\"\n",
    "            play_img_urls.append(temp_img)\n",
    "            urllib.request.urlretrieve(temp_img, file_name)\n",
    "            if counter%2 == 0 or counter%3==0 or counter%5==0:\n",
    "                os.replace('./'+file_name, './web_scrape/train_data/play_card_images/'+file_name)\n",
    "            else:\n",
    "                os.replace('./'+file_name, './web_scrape/test_data/play_card_images/'+file_name)\n",
    "            progress +=1\n",
    "            if np.floor(progress_counter)%10 == 0:\n",
    "                print(np.floor(progress_counter),'% complete...')  \n",
    "            counter +=1\n",
    "    else:\n",
    "        print(\"URL did not give 200 response: \", url,\". Repsonse: \", response)\n",
    "    print('Scraping complete!')\n",
    "    print()\n",
    "    time.sleep(np.random.rand())\n",
    "\n",
    "counter =0\n",
    "for t in token_pages:\n",
    "    print()\n",
    "    print('Starting Token Card scraper...')\n",
    "    url = 'https://scryfall.com/search?as=grid&order=name&page='+str(t)+'&q=t%3Atoken&unique=cards'\n",
    "    print('Scraping...Please wait...', url)\n",
    "    request_ = requests.get(url)\n",
    "    response = requests.get(url).status_code\n",
    "    if response == 200:\n",
    "        soup = BeautifulSoup(request_.content, features='html.parser')\n",
    "        card_img = soup.find_all('img')\n",
    "        print(\"There are\", len(card_img), \"images on this page\")\n",
    "        progress = 0\n",
    "        for img in card_img:\n",
    "            progress_counter = (progress/len(card_img))*100\n",
    "            temp_img = img['src']\n",
    "            file_name = \"image2_\"+str(counter)+\"_play_card.jpg\"\n",
    "            token_img_urls.append(temp_img)\n",
    "            urllib.request.urlretrieve(temp_img, file_name)\n",
    "            if counter%2 == 0 or counter%3==0 or counter%5==0:\n",
    "                os.replace('./'+file_name, './web_scrape/train_data/token_images/'+file_name)\n",
    "            else:\n",
    "                os.replace('./'+file_name, './web_scrape/test_data/token_images/'+file_name)\n",
    "            progress +=1\n",
    "            if np.floor(progress_counter)%10 == 0:\n",
    "                print(np.floor(progress_counter),'% complete...')  \n",
    "            counter +=1\n",
    "    else:\n",
    "        print(\"URL did not give 200 response: \", url,\". Repsonse: \", response)\n",
    "    print('Scraping complete!')\n",
    "    time.sleep(np.random.rand())"
   ]
  },
  {
   "cell_type": "code",
   "execution_count": 3,
   "id": "1e07afb1",
   "metadata": {},
   "outputs": [
    {
     "name": "stdout",
     "output_type": "stream",
     "text": [
      "Scraping...Please wait... https://scryfall.com/search?as=grid&order=name&page=1&q=%28type%3Aconspiracy+OR+type%3Aemblem+OR+type%3Aphenomenon+OR+type%3Ascheme%29+%28game%3Apaper%29+-is%3Aflip&unique=cards\n",
      "There are 60 images on this page\n",
      "0.0 % complete...\n",
      "10.0 % complete...\n",
      "20.0 % complete...\n",
      "30.0 % complete...\n",
      "40.0 % complete...\n",
      "50.0 % complete...\n",
      "60.0 % complete...\n",
      "70.0 % complete...\n",
      "80.0 % complete...\n",
      "90.0 % complete...\n",
      "Scraping complete!\n",
      "\n",
      "Scraping...Please wait... https://scryfall.com/search?as=grid&order=name&page=2&q=%28type%3Aconspiracy+OR+type%3Aemblem+OR+type%3Aphenomenon+OR+type%3Ascheme%29+%28game%3Apaper%29+-is%3Aflip&unique=cards\n",
      "There are 60 images on this page\n",
      "0.0 % complete...\n",
      "10.0 % complete...\n",
      "20.0 % complete...\n",
      "30.0 % complete...\n",
      "40.0 % complete...\n",
      "50.0 % complete...\n",
      "60.0 % complete...\n",
      "70.0 % complete...\n",
      "80.0 % complete...\n",
      "90.0 % complete...\n",
      "Scraping complete!\n",
      "\n",
      "Scraping...Please wait... https://scryfall.com/search?as=grid&order=name&page=3&q=%28type%3Aconspiracy+OR+type%3Aemblem+OR+type%3Aphenomenon+OR+type%3Ascheme%29+%28game%3Apaper%29+-is%3Aflip&unique=cards\n",
      "There are 61 images on this page\n",
      "0.0 % complete...\n",
      "40.0 % complete...\n",
      "50.0 % complete...\n",
      "60.0 % complete...\n",
      "70.0 % complete...\n",
      "80.0 % complete...\n",
      "90.0 % complete...\n",
      "Scraping complete!\n",
      "\n",
      "Scraping...Please wait... https://scryfall.com/search?as=grid&order=name&page=4&q=%28type%3Aconspiracy+OR+type%3Aemblem+OR+type%3Aphenomenon+OR+type%3Ascheme%29+%28game%3Apaper%29+-is%3Aflip&unique=cards\n",
      "There are 4 images on this page\n",
      "0.0 % complete...\n",
      "50.0 % complete...\n",
      "Scraping complete!\n",
      "\n"
     ]
    }
   ],
   "source": [
    "#scrpaing images of 'conspiracy' and 'scheme' cards for to feed models images they've never seen for predictions \n",
    "# total of 184 on 4 pages\n",
    "counter = 0\n",
    "pages = range(1,5)\n",
    "for i in pages:\n",
    "    url = 'https://scryfall.com/search?as=grid&order=name&page='+str(i)+'&q=%28type%3Aconspiracy+OR+type%3Aemblem+OR+type%3Aphenomenon+OR+type%3Ascheme%29+%28game%3Apaper%29+-is%3Aflip&unique=cards'\n",
    "    print('Scraping...Please wait...', url)\n",
    "    request_ = requests.get(url)\n",
    "    response = requests.get(url).status_code\n",
    "    if response == 200:\n",
    "        soup = BeautifulSoup(request_.content, features='html.parser')\n",
    "        card_img = soup.find_all('img')\n",
    "        print(\"There are\", len(card_img), \"images on this page\")\n",
    "        progress = 0\n",
    "        for img in card_img:\n",
    "            progress_counter = (progress/len(card_img))*100\n",
    "            temp_img = img['src']\n",
    "            file_name = \"image_\"+str(counter)+\"_pred_img.jpg\"\n",
    "            urllib.request.urlretrieve(temp_img, file_name)\n",
    "            os.replace('./'+file_name, './new_predict/'+file_name)\n",
    "            progress +=1\n",
    "            if np.floor(progress_counter)%10 == 0:\n",
    "                print(np.floor(progress_counter),'% complete...')  \n",
    "            counter +=1\n",
    "    else:\n",
    "        print(\"URL did not give 200 response: \", url,\". Repsonse: \", response)\n",
    "    print('Scraping complete!')\n",
    "    print()\n",
    "    time.sleep(np.random.rand())"
   ]
  },
  {
   "cell_type": "code",
   "execution_count": null,
   "id": "b2016b7f",
   "metadata": {},
   "outputs": [],
   "source": [
    "#extracting card IDs from the URLs\n",
    "token_card_ids = []\n",
    "token_card_ids = list(map(lambda x: x.split('/')[7].split('.')[0], token_img_urls))"
   ]
  },
  {
   "cell_type": "code",
   "execution_count": null,
   "id": "ac84f94c",
   "metadata": {},
   "outputs": [],
   "source": [
    "#extracting card IDs from the URLs\n",
    "play_card_ids = []\n",
    "play_card_ids = list(map(lambda x: x.split('/')[7].split('.')[0], play_img_urls))"
   ]
  },
  {
   "cell_type": "code",
   "execution_count": null,
   "id": "db1f041a",
   "metadata": {},
   "outputs": [],
   "source": [
    "25*60"
   ]
  },
  {
   "cell_type": "code",
   "execution_count": null,
   "id": "73c4ee83",
   "metadata": {},
   "outputs": [],
   "source": [
    "y =1\n",
    "np.random.choice(444,1)"
   ]
  },
  {
   "cell_type": "code",
   "execution_count": null,
   "id": "41a01f42",
   "metadata": {},
   "outputs": [],
   "source": [
    "len(play_img_urls)"
   ]
  },
  {
   "cell_type": "code",
   "execution_count": null,
   "id": "ae143584",
   "metadata": {},
   "outputs": [],
   "source": [
    "len(play_card_ids)"
   ]
  },
  {
   "cell_type": "code",
   "execution_count": null,
   "id": "10eabacb",
   "metadata": {},
   "outputs": [],
   "source": []
  },
  {
   "cell_type": "code",
   "execution_count": null,
   "id": "1482e111",
   "metadata": {},
   "outputs": [],
   "source": []
  },
  {
   "cell_type": "code",
   "execution_count": null,
   "id": "fc0d4cdf",
   "metadata": {},
   "outputs": [],
   "source": [
    "len(token_card_ids)"
   ]
  },
  {
   "cell_type": "code",
   "execution_count": null,
   "id": "ff757b56",
   "metadata": {},
   "outputs": [],
   "source": [
    "len(soup.find_all('div', {'class','card-grid-item'}))"
   ]
  },
  {
   "cell_type": "code",
   "execution_count": null,
   "id": "1707b08f",
   "metadata": {},
   "outputs": [],
   "source": [
    "url = 'https://scryfall.com/search?as=grid&order=name&page=11&q=t%3Atoken&unique=cards'\n",
    "response = requests.get(url)\n",
    "response.status_code"
   ]
  },
  {
   "cell_type": "code",
   "execution_count": null,
   "id": "0af88c5a",
   "metadata": {},
   "outputs": [],
   "source": [
    "soup = BeautifulSoup(response.content, features='html.parser')"
   ]
  },
  {
   "cell_type": "code",
   "execution_count": null,
   "id": "984ee9eb",
   "metadata": {},
   "outputs": [],
   "source": [
    "soup.find_all('div', {'class','card-grid-item'})"
   ]
  },
  {
   "cell_type": "code",
   "execution_count": null,
   "id": "3303d790",
   "metadata": {},
   "outputs": [],
   "source": [
    "soup.find_all('div')[17]['data-card-id']"
   ]
  },
  {
   "cell_type": "code",
   "execution_count": null,
   "id": "16f4917c",
   "metadata": {},
   "outputs": [],
   "source": [
    "soup.find_all('div')"
   ]
  },
  {
   "cell_type": "code",
   "execution_count": null,
   "id": "e0859ae1",
   "metadata": {},
   "outputs": [],
   "source": [
    "soup.find_all('select')"
   ]
  },
  {
   "cell_type": "code",
   "execution_count": null,
   "id": "c81b9acd",
   "metadata": {},
   "outputs": [],
   "source": [
    "response = requests.get('https://cards.scryfall.io/normal/front/7/1/71dc8556-a658-40e1-8a93-6a62af208a28.jpg?1562639859')\n",
    "img = Image.open(BytesIO(response.content))"
   ]
  },
  {
   "cell_type": "code",
   "execution_count": null,
   "id": "552b01c1",
   "metadata": {},
   "outputs": [],
   "source": [
    "img"
   ]
  },
  {
   "cell_type": "code",
   "execution_count": null,
   "id": "b25fc2ec",
   "metadata": {},
   "outputs": [],
   "source": [
    "#save image as local file\n",
    "urllib.request.urlretrieve(\"https://cards.scryfall.io/normal/front/4/0/40b9dcb9-05c1-4a2e-b0cb-6554483ca5c9.jpg?1562908403\", \"local-filename.jpg\")"
   ]
  },
  {
   "cell_type": "code",
   "execution_count": null,
   "id": "612f1016",
   "metadata": {},
   "outputs": [],
   "source": [
    "url = \"https://api-mainnet.magiceden.dev/v2/ord/btc/tokens?tokenIds=&showAll=true&sortBy=priceAsc\"\n",
    "response = requests.get(url)\n",
    "response.json()"
   ]
  },
  {
   "cell_type": "code",
   "execution_count": null,
   "id": "eeba7299",
   "metadata": {},
   "outputs": [],
   "source": [
    "soup.findall({'img':'src'})"
   ]
  },
  {
   "cell_type": "code",
   "execution_count": null,
   "id": "706f9bb0",
   "metadata": {},
   "outputs": [],
   "source": [
    "soup.find_all('img')"
   ]
  },
  {
   "cell_type": "code",
   "execution_count": null,
   "id": "de3f9b99",
   "metadata": {},
   "outputs": [],
   "source": [
    "card_img[0].find('src')"
   ]
  },
  {
   "cell_type": "code",
   "execution_count": null,
   "id": "2bcde673",
   "metadata": {},
   "outputs": [],
   "source": []
  },
  {
   "cell_type": "code",
   "execution_count": null,
   "id": "0a7b28d0",
   "metadata": {},
   "outputs": [],
   "source": [
    "response = requests.get(url).status_code"
   ]
  },
  {
   "cell_type": "code",
   "execution_count": null,
   "id": "a990a257",
   "metadata": {},
   "outputs": [],
   "source": [
    "requests.get('https://api.scryfall.com/cards/71dc8556-a658-40e1-8a93-6a62af208a28').json()"
   ]
  }
 ],
 "metadata": {
  "kernelspec": {
   "display_name": "Python 3 (ipykernel)",
   "language": "python",
   "name": "python3"
  },
  "language_info": {
   "codemirror_mode": {
    "name": "ipython",
    "version": 3
   },
   "file_extension": ".py",
   "mimetype": "text/x-python",
   "name": "python",
   "nbconvert_exporter": "python",
   "pygments_lexer": "ipython3",
   "version": "3.11.4"
  }
 },
 "nbformat": 4,
 "nbformat_minor": 5
}
